{
 "cells": [
  {
   "cell_type": "markdown",
   "id": "24d51c65",
   "metadata": {},
   "source": [
    "This notebook contains the steps of loading in, cleaning, and preprocessing my data for the final project"
   ]
  },
  {
   "cell_type": "markdown",
   "id": "aa72cb80",
   "metadata": {},
   "source": [
    "# Research Questions:\n",
    "## 1. Descriptives: \n",
    "- Were the purchases of jewelry from this retailer at their peak in May of 2011, considering the historical event of Kate and William’s wedding? \n",
    "- How does the purchasing of jewelry compare to other types of products,(meaning, per customer what types of products are they buying with jewelry, or are they buying exclusively jewelry, etc.)?\n",
    "## 2. Main Question:\n",
    "- Does the price of purchased jewelry predict what country the customer resides in? (target = country)"
   ]
  },
  {
   "cell_type": "code",
   "execution_count": 1,
   "id": "e7349be8",
   "metadata": {},
   "outputs": [
    {
     "name": "stderr",
     "output_type": "stream",
     "text": [
      "Matplotlib is building the font cache; this may take a moment.\n"
     ]
    }
   ],
   "source": [
    "import pandas as pd\n",
    "import matplotlib.pyplot as plt\n",
    "import numpy as np\n",
    "import nltk \n",
    "from nltk.stem import PorterStemmer, WordNetLemmatizer"
   ]
  },
  {
   "cell_type": "code",
   "execution_count": 2,
   "id": "e12342ce",
   "metadata": {},
   "outputs": [
    {
     "data": {
      "text/html": [
       "<div>\n",
       "<style scoped>\n",
       "    .dataframe tbody tr th:only-of-type {\n",
       "        vertical-align: middle;\n",
       "    }\n",
       "\n",
       "    .dataframe tbody tr th {\n",
       "        vertical-align: top;\n",
       "    }\n",
       "\n",
       "    .dataframe thead th {\n",
       "        text-align: right;\n",
       "    }\n",
       "</style>\n",
       "<table border=\"1\" class=\"dataframe\">\n",
       "  <thead>\n",
       "    <tr style=\"text-align: right;\">\n",
       "      <th></th>\n",
       "      <th>InvoiceNo</th>\n",
       "      <th>StockCode</th>\n",
       "      <th>Description</th>\n",
       "      <th>Quantity</th>\n",
       "      <th>InvoiceDate</th>\n",
       "      <th>UnitPrice</th>\n",
       "      <th>CustomerID</th>\n",
       "      <th>Country</th>\n",
       "    </tr>\n",
       "  </thead>\n",
       "  <tbody>\n",
       "    <tr>\n",
       "      <th>0</th>\n",
       "      <td>536365</td>\n",
       "      <td>85123A</td>\n",
       "      <td>WHITE HANGING HEART T-LIGHT HOLDER</td>\n",
       "      <td>6</td>\n",
       "      <td>2010-12-01 08:26:00</td>\n",
       "      <td>2.55</td>\n",
       "      <td>17850.0</td>\n",
       "      <td>United Kingdom</td>\n",
       "    </tr>\n",
       "    <tr>\n",
       "      <th>1</th>\n",
       "      <td>536365</td>\n",
       "      <td>71053</td>\n",
       "      <td>WHITE METAL LANTERN</td>\n",
       "      <td>6</td>\n",
       "      <td>2010-12-01 08:26:00</td>\n",
       "      <td>3.39</td>\n",
       "      <td>17850.0</td>\n",
       "      <td>United Kingdom</td>\n",
       "    </tr>\n",
       "    <tr>\n",
       "      <th>2</th>\n",
       "      <td>536365</td>\n",
       "      <td>84406B</td>\n",
       "      <td>CREAM CUPID HEARTS COAT HANGER</td>\n",
       "      <td>8</td>\n",
       "      <td>2010-12-01 08:26:00</td>\n",
       "      <td>2.75</td>\n",
       "      <td>17850.0</td>\n",
       "      <td>United Kingdom</td>\n",
       "    </tr>\n",
       "    <tr>\n",
       "      <th>3</th>\n",
       "      <td>536365</td>\n",
       "      <td>84029G</td>\n",
       "      <td>KNITTED UNION FLAG HOT WATER BOTTLE</td>\n",
       "      <td>6</td>\n",
       "      <td>2010-12-01 08:26:00</td>\n",
       "      <td>3.39</td>\n",
       "      <td>17850.0</td>\n",
       "      <td>United Kingdom</td>\n",
       "    </tr>\n",
       "    <tr>\n",
       "      <th>4</th>\n",
       "      <td>536365</td>\n",
       "      <td>84029E</td>\n",
       "      <td>RED WOOLLY HOTTIE WHITE HEART.</td>\n",
       "      <td>6</td>\n",
       "      <td>2010-12-01 08:26:00</td>\n",
       "      <td>3.39</td>\n",
       "      <td>17850.0</td>\n",
       "      <td>United Kingdom</td>\n",
       "    </tr>\n",
       "  </tbody>\n",
       "</table>\n",
       "</div>"
      ],
      "text/plain": [
       "  InvoiceNo StockCode                          Description  Quantity  \\\n",
       "0    536365    85123A   WHITE HANGING HEART T-LIGHT HOLDER         6   \n",
       "1    536365     71053                  WHITE METAL LANTERN         6   \n",
       "2    536365    84406B       CREAM CUPID HEARTS COAT HANGER         8   \n",
       "3    536365    84029G  KNITTED UNION FLAG HOT WATER BOTTLE         6   \n",
       "4    536365    84029E       RED WOOLLY HOTTIE WHITE HEART.         6   \n",
       "\n",
       "          InvoiceDate  UnitPrice  CustomerID         Country  \n",
       "0 2010-12-01 08:26:00       2.55     17850.0  United Kingdom  \n",
       "1 2010-12-01 08:26:00       3.39     17850.0  United Kingdom  \n",
       "2 2010-12-01 08:26:00       2.75     17850.0  United Kingdom  \n",
       "3 2010-12-01 08:26:00       3.39     17850.0  United Kingdom  \n",
       "4 2010-12-01 08:26:00       3.39     17850.0  United Kingdom  "
      ]
     },
     "execution_count": 2,
     "metadata": {},
     "output_type": "execute_result"
    }
   ],
   "source": [
    "infile = \"data/Online Retail.xlsx\"\n",
    "\n",
    "df = pd.read_excel(infile)\n",
    "df.head()"
   ]
  },
  {
   "cell_type": "code",
   "execution_count": 3,
   "id": "05d2c36a",
   "metadata": {},
   "outputs": [
    {
     "name": "stdout",
     "output_type": "stream",
     "text": [
      "Number of Rows: 541909\n",
      "Number of Columns: 8\n",
      "Are there missing values:\n",
      "InvoiceNo           0\n",
      "StockCode           0\n",
      "Description      1454\n",
      "Quantity            0\n",
      "InvoiceDate         0\n",
      "UnitPrice           0\n",
      "CustomerID     135080\n",
      "Country             0\n",
      "dtype: int64\n"
     ]
    }
   ],
   "source": [
    "# check the measurements of the data\n",
    "print('Number of Rows: {}'.format(df.shape[0]))\n",
    "print('Number of Columns: {}'.format(df.shape[1]))\n",
    "print(f'Are there missing values:\\n{df.isna().sum()}')"
   ]
  },
  {
   "cell_type": "code",
   "execution_count": 4,
   "id": "fa6b37a7",
   "metadata": {},
   "outputs": [
    {
     "data": {
      "text/plain": [
       "InvoiceNo              object\n",
       "StockCode              object\n",
       "Description            object\n",
       "Quantity                int64\n",
       "InvoiceDate    datetime64[ns]\n",
       "UnitPrice             float64\n",
       "CustomerID            float64\n",
       "Country                object\n",
       "dtype: object"
      ]
     },
     "execution_count": 4,
     "metadata": {},
     "output_type": "execute_result"
    }
   ],
   "source": [
    "# check the data types of the data, so that we know how best to preprocess them\n",
    "df.dtypes"
   ]
  },
  {
   "cell_type": "markdown",
   "id": "e1d7cd4d",
   "metadata": {},
   "source": [
    "We have to make some new columns. The first new column I want to make is the UnitPrice converted to US\n",
    "dollars, because my audience is American and UnitPrice is currently in sterling (not as common of a currency as euros). Price is also a critical component of my research question. I want the new UnitPrice column to replace the old UnitPrice values. Conversion rates of currencies are always changing, so this rate may not be accurate in the future. "
   ]
  },
  {
   "cell_type": "code",
   "execution_count": 5,
   "id": "73978323",
   "metadata": {},
   "outputs": [
    {
     "data": {
      "text/html": [
       "<div>\n",
       "<style scoped>\n",
       "    .dataframe tbody tr th:only-of-type {\n",
       "        vertical-align: middle;\n",
       "    }\n",
       "\n",
       "    .dataframe tbody tr th {\n",
       "        vertical-align: top;\n",
       "    }\n",
       "\n",
       "    .dataframe thead th {\n",
       "        text-align: right;\n",
       "    }\n",
       "</style>\n",
       "<table border=\"1\" class=\"dataframe\">\n",
       "  <thead>\n",
       "    <tr style=\"text-align: right;\">\n",
       "      <th></th>\n",
       "      <th>InvoiceNo</th>\n",
       "      <th>StockCode</th>\n",
       "      <th>Description</th>\n",
       "      <th>Quantity</th>\n",
       "      <th>InvoiceDate</th>\n",
       "      <th>UnitPrice</th>\n",
       "      <th>CustomerID</th>\n",
       "      <th>Country</th>\n",
       "    </tr>\n",
       "  </thead>\n",
       "  <tbody>\n",
       "    <tr>\n",
       "      <th>0</th>\n",
       "      <td>536365</td>\n",
       "      <td>85123A</td>\n",
       "      <td>WHITE HANGING HEART T-LIGHT HOLDER</td>\n",
       "      <td>6</td>\n",
       "      <td>2010-12-01 08:26:00</td>\n",
       "      <td>3.1620</td>\n",
       "      <td>17850.0</td>\n",
       "      <td>United Kingdom</td>\n",
       "    </tr>\n",
       "    <tr>\n",
       "      <th>1</th>\n",
       "      <td>536365</td>\n",
       "      <td>71053</td>\n",
       "      <td>WHITE METAL LANTERN</td>\n",
       "      <td>6</td>\n",
       "      <td>2010-12-01 08:26:00</td>\n",
       "      <td>4.2036</td>\n",
       "      <td>17850.0</td>\n",
       "      <td>United Kingdom</td>\n",
       "    </tr>\n",
       "    <tr>\n",
       "      <th>2</th>\n",
       "      <td>536365</td>\n",
       "      <td>84406B</td>\n",
       "      <td>CREAM CUPID HEARTS COAT HANGER</td>\n",
       "      <td>8</td>\n",
       "      <td>2010-12-01 08:26:00</td>\n",
       "      <td>3.4100</td>\n",
       "      <td>17850.0</td>\n",
       "      <td>United Kingdom</td>\n",
       "    </tr>\n",
       "    <tr>\n",
       "      <th>3</th>\n",
       "      <td>536365</td>\n",
       "      <td>84029G</td>\n",
       "      <td>KNITTED UNION FLAG HOT WATER BOTTLE</td>\n",
       "      <td>6</td>\n",
       "      <td>2010-12-01 08:26:00</td>\n",
       "      <td>4.2036</td>\n",
       "      <td>17850.0</td>\n",
       "      <td>United Kingdom</td>\n",
       "    </tr>\n",
       "    <tr>\n",
       "      <th>4</th>\n",
       "      <td>536365</td>\n",
       "      <td>84029E</td>\n",
       "      <td>RED WOOLLY HOTTIE WHITE HEART.</td>\n",
       "      <td>6</td>\n",
       "      <td>2010-12-01 08:26:00</td>\n",
       "      <td>4.2036</td>\n",
       "      <td>17850.0</td>\n",
       "      <td>United Kingdom</td>\n",
       "    </tr>\n",
       "  </tbody>\n",
       "</table>\n",
       "</div>"
      ],
      "text/plain": [
       "  InvoiceNo StockCode                          Description  Quantity  \\\n",
       "0    536365    85123A   WHITE HANGING HEART T-LIGHT HOLDER         6   \n",
       "1    536365     71053                  WHITE METAL LANTERN         6   \n",
       "2    536365    84406B       CREAM CUPID HEARTS COAT HANGER         8   \n",
       "3    536365    84029G  KNITTED UNION FLAG HOT WATER BOTTLE         6   \n",
       "4    536365    84029E       RED WOOLLY HOTTIE WHITE HEART.         6   \n",
       "\n",
       "          InvoiceDate  UnitPrice  CustomerID         Country  \n",
       "0 2010-12-01 08:26:00     3.1620     17850.0  United Kingdom  \n",
       "1 2010-12-01 08:26:00     4.2036     17850.0  United Kingdom  \n",
       "2 2010-12-01 08:26:00     3.4100     17850.0  United Kingdom  \n",
       "3 2010-12-01 08:26:00     4.2036     17850.0  United Kingdom  \n",
       "4 2010-12-01 08:26:00     4.2036     17850.0  United Kingdom  "
      ]
     },
     "execution_count": 5,
     "metadata": {},
     "output_type": "execute_result"
    }
   ],
   "source": [
    "# Conversion rate taken from Forbes as of April 2024:\n",
    "# https://www.forbes.com/advisor/money-transfer/currency-converter/gbp-usd/\n",
    "\n",
    "# 1 GDP = 1.24 USD\n",
    "# we will multiply each observation's Unit Price value by 1.24\n",
    "\n",
    "df['UnitPrice'] = df['UnitPrice'].apply(lambda x: x*1.24)\n",
    "df.head()"
   ]
  },
  {
   "cell_type": "code",
   "execution_count": 6,
   "id": "6162e302",
   "metadata": {},
   "outputs": [
    {
     "data": {
      "text/plain": [
       "array(['United Kingdom', 'France', 'Australia', 'Netherlands', 'Germany',\n",
       "       'Norway', 'EIRE', 'Switzerland', 'Spain', 'Poland', 'Portugal',\n",
       "       'Italy', 'Belgium', 'Lithuania', 'Japan', 'Iceland',\n",
       "       'Channel Islands', 'Denmark', 'Cyprus', 'Sweden', 'Austria',\n",
       "       'Israel', 'Finland', 'Bahrain', 'Greece', 'Hong Kong', 'Singapore',\n",
       "       'Lebanon', 'United Arab Emirates', 'Saudi Arabia',\n",
       "       'Czech Republic', 'Canada', 'Unspecified', 'Brazil', 'USA',\n",
       "       'European Community', 'Malta', 'RSA'], dtype=object)"
      ]
     },
     "execution_count": 6,
     "metadata": {},
     "output_type": "execute_result"
    }
   ],
   "source": [
    "# we need to convert our target class 'Country' to 1s and 0s for binary classification\n",
    "\n",
    "# checking what countries are in this dataframe\n",
    "df['Country'].unique()"
   ]
  },
  {
   "cell_type": "markdown",
   "id": "02a7a0d5",
   "metadata": {},
   "source": [
    "I want to make a new column called \"Target Class\" where UK is coded as 1 and all other countries coded as 0. It's important to note here though that it may be interesting to examine grouping countries by their continent to do something other than binary classification, but that goes beyond the scope of my project."
   ]
  },
  {
   "cell_type": "code",
   "execution_count": 7,
   "id": "de823797",
   "metadata": {},
   "outputs": [
    {
     "data": {
      "text/html": [
       "<div>\n",
       "<style scoped>\n",
       "    .dataframe tbody tr th:only-of-type {\n",
       "        vertical-align: middle;\n",
       "    }\n",
       "\n",
       "    .dataframe tbody tr th {\n",
       "        vertical-align: top;\n",
       "    }\n",
       "\n",
       "    .dataframe thead th {\n",
       "        text-align: right;\n",
       "    }\n",
       "</style>\n",
       "<table border=\"1\" class=\"dataframe\">\n",
       "  <thead>\n",
       "    <tr style=\"text-align: right;\">\n",
       "      <th></th>\n",
       "      <th>InvoiceNo</th>\n",
       "      <th>StockCode</th>\n",
       "      <th>Description</th>\n",
       "      <th>Quantity</th>\n",
       "      <th>InvoiceDate</th>\n",
       "      <th>UnitPrice</th>\n",
       "      <th>CustomerID</th>\n",
       "      <th>Country</th>\n",
       "      <th>Target</th>\n",
       "    </tr>\n",
       "  </thead>\n",
       "  <tbody>\n",
       "    <tr>\n",
       "      <th>0</th>\n",
       "      <td>536365</td>\n",
       "      <td>85123A</td>\n",
       "      <td>WHITE HANGING HEART T-LIGHT HOLDER</td>\n",
       "      <td>6</td>\n",
       "      <td>2010-12-01 08:26:00</td>\n",
       "      <td>3.1620</td>\n",
       "      <td>17850.0</td>\n",
       "      <td>United Kingdom</td>\n",
       "      <td>1</td>\n",
       "    </tr>\n",
       "    <tr>\n",
       "      <th>1</th>\n",
       "      <td>536365</td>\n",
       "      <td>71053</td>\n",
       "      <td>WHITE METAL LANTERN</td>\n",
       "      <td>6</td>\n",
       "      <td>2010-12-01 08:26:00</td>\n",
       "      <td>4.2036</td>\n",
       "      <td>17850.0</td>\n",
       "      <td>United Kingdom</td>\n",
       "      <td>1</td>\n",
       "    </tr>\n",
       "    <tr>\n",
       "      <th>2</th>\n",
       "      <td>536365</td>\n",
       "      <td>84406B</td>\n",
       "      <td>CREAM CUPID HEARTS COAT HANGER</td>\n",
       "      <td>8</td>\n",
       "      <td>2010-12-01 08:26:00</td>\n",
       "      <td>3.4100</td>\n",
       "      <td>17850.0</td>\n",
       "      <td>United Kingdom</td>\n",
       "      <td>1</td>\n",
       "    </tr>\n",
       "    <tr>\n",
       "      <th>3</th>\n",
       "      <td>536365</td>\n",
       "      <td>84029G</td>\n",
       "      <td>KNITTED UNION FLAG HOT WATER BOTTLE</td>\n",
       "      <td>6</td>\n",
       "      <td>2010-12-01 08:26:00</td>\n",
       "      <td>4.2036</td>\n",
       "      <td>17850.0</td>\n",
       "      <td>United Kingdom</td>\n",
       "      <td>1</td>\n",
       "    </tr>\n",
       "    <tr>\n",
       "      <th>4</th>\n",
       "      <td>536365</td>\n",
       "      <td>84029E</td>\n",
       "      <td>RED WOOLLY HOTTIE WHITE HEART.</td>\n",
       "      <td>6</td>\n",
       "      <td>2010-12-01 08:26:00</td>\n",
       "      <td>4.2036</td>\n",
       "      <td>17850.0</td>\n",
       "      <td>United Kingdom</td>\n",
       "      <td>1</td>\n",
       "    </tr>\n",
       "  </tbody>\n",
       "</table>\n",
       "</div>"
      ],
      "text/plain": [
       "  InvoiceNo StockCode                          Description  Quantity  \\\n",
       "0    536365    85123A   WHITE HANGING HEART T-LIGHT HOLDER         6   \n",
       "1    536365     71053                  WHITE METAL LANTERN         6   \n",
       "2    536365    84406B       CREAM CUPID HEARTS COAT HANGER         8   \n",
       "3    536365    84029G  KNITTED UNION FLAG HOT WATER BOTTLE         6   \n",
       "4    536365    84029E       RED WOOLLY HOTTIE WHITE HEART.         6   \n",
       "\n",
       "          InvoiceDate  UnitPrice  CustomerID         Country  Target  \n",
       "0 2010-12-01 08:26:00     3.1620     17850.0  United Kingdom       1  \n",
       "1 2010-12-01 08:26:00     4.2036     17850.0  United Kingdom       1  \n",
       "2 2010-12-01 08:26:00     3.4100     17850.0  United Kingdom       1  \n",
       "3 2010-12-01 08:26:00     4.2036     17850.0  United Kingdom       1  \n",
       "4 2010-12-01 08:26:00     4.2036     17850.0  United Kingdom       1  "
      ]
     },
     "execution_count": 7,
     "metadata": {},
     "output_type": "execute_result"
    }
   ],
   "source": [
    "df['Target'] = (df['Country'] == 'United Kingdom').astype(int)\n",
    "df.head()"
   ]
  },
  {
   "cell_type": "code",
   "execution_count": 8,
   "id": "702cd76a",
   "metadata": {},
   "outputs": [
    {
     "data": {
      "text/html": [
       "<div>\n",
       "<style scoped>\n",
       "    .dataframe tbody tr th:only-of-type {\n",
       "        vertical-align: middle;\n",
       "    }\n",
       "\n",
       "    .dataframe tbody tr th {\n",
       "        vertical-align: top;\n",
       "    }\n",
       "\n",
       "    .dataframe thead th {\n",
       "        text-align: right;\n",
       "    }\n",
       "</style>\n",
       "<table border=\"1\" class=\"dataframe\">\n",
       "  <thead>\n",
       "    <tr style=\"text-align: right;\">\n",
       "      <th></th>\n",
       "      <th>InvoiceNo</th>\n",
       "      <th>StockCode</th>\n",
       "      <th>Description</th>\n",
       "      <th>Quantity</th>\n",
       "      <th>InvoiceDate</th>\n",
       "      <th>UnitPrice</th>\n",
       "      <th>CustomerID</th>\n",
       "      <th>Country</th>\n",
       "      <th>Target</th>\n",
       "    </tr>\n",
       "  </thead>\n",
       "  <tbody>\n",
       "    <tr>\n",
       "      <th>541904</th>\n",
       "      <td>581587</td>\n",
       "      <td>22613</td>\n",
       "      <td>PACK OF 20 SPACEBOY NAPKINS</td>\n",
       "      <td>12</td>\n",
       "      <td>2011-12-09 12:50:00</td>\n",
       "      <td>1.054</td>\n",
       "      <td>12680.0</td>\n",
       "      <td>France</td>\n",
       "      <td>0</td>\n",
       "    </tr>\n",
       "    <tr>\n",
       "      <th>541905</th>\n",
       "      <td>581587</td>\n",
       "      <td>22899</td>\n",
       "      <td>CHILDREN'S APRON DOLLY GIRL</td>\n",
       "      <td>6</td>\n",
       "      <td>2011-12-09 12:50:00</td>\n",
       "      <td>2.604</td>\n",
       "      <td>12680.0</td>\n",
       "      <td>France</td>\n",
       "      <td>0</td>\n",
       "    </tr>\n",
       "    <tr>\n",
       "      <th>541906</th>\n",
       "      <td>581587</td>\n",
       "      <td>23254</td>\n",
       "      <td>CHILDRENS CUTLERY DOLLY GIRL</td>\n",
       "      <td>4</td>\n",
       "      <td>2011-12-09 12:50:00</td>\n",
       "      <td>5.146</td>\n",
       "      <td>12680.0</td>\n",
       "      <td>France</td>\n",
       "      <td>0</td>\n",
       "    </tr>\n",
       "    <tr>\n",
       "      <th>541907</th>\n",
       "      <td>581587</td>\n",
       "      <td>23255</td>\n",
       "      <td>CHILDRENS CUTLERY CIRCUS PARADE</td>\n",
       "      <td>4</td>\n",
       "      <td>2011-12-09 12:50:00</td>\n",
       "      <td>5.146</td>\n",
       "      <td>12680.0</td>\n",
       "      <td>France</td>\n",
       "      <td>0</td>\n",
       "    </tr>\n",
       "    <tr>\n",
       "      <th>541908</th>\n",
       "      <td>581587</td>\n",
       "      <td>22138</td>\n",
       "      <td>BAKING SET 9 PIECE RETROSPOT</td>\n",
       "      <td>3</td>\n",
       "      <td>2011-12-09 12:50:00</td>\n",
       "      <td>6.138</td>\n",
       "      <td>12680.0</td>\n",
       "      <td>France</td>\n",
       "      <td>0</td>\n",
       "    </tr>\n",
       "  </tbody>\n",
       "</table>\n",
       "</div>"
      ],
      "text/plain": [
       "       InvoiceNo StockCode                      Description  Quantity  \\\n",
       "541904    581587     22613      PACK OF 20 SPACEBOY NAPKINS        12   \n",
       "541905    581587     22899     CHILDREN'S APRON DOLLY GIRL          6   \n",
       "541906    581587     23254    CHILDRENS CUTLERY DOLLY GIRL          4   \n",
       "541907    581587     23255  CHILDRENS CUTLERY CIRCUS PARADE         4   \n",
       "541908    581587     22138    BAKING SET 9 PIECE RETROSPOT          3   \n",
       "\n",
       "               InvoiceDate  UnitPrice  CustomerID Country  Target  \n",
       "541904 2011-12-09 12:50:00      1.054     12680.0  France       0  \n",
       "541905 2011-12-09 12:50:00      2.604     12680.0  France       0  \n",
       "541906 2011-12-09 12:50:00      5.146     12680.0  France       0  \n",
       "541907 2011-12-09 12:50:00      5.146     12680.0  France       0  \n",
       "541908 2011-12-09 12:50:00      6.138     12680.0  France       0  "
      ]
     },
     "execution_count": 8,
     "metadata": {},
     "output_type": "execute_result"
    }
   ],
   "source": [
    "# check that other countries got coded as 0\n",
    "df.tail()"
   ]
  },
  {
   "cell_type": "markdown",
   "id": "0f32b212",
   "metadata": {},
   "source": [
    "Now we have to preprocess our 'Description' column. We need to first change the case of this column to mixed case, because for example 'EARRING' contains the word 'RING' in it, and thus to avoid any confusion of jewelery item types, we should change the case to mixed so that the word starts with a single uppercase letter."
   ]
  },
  {
   "cell_type": "code",
   "execution_count": 9,
   "id": "6c1b80b1",
   "metadata": {},
   "outputs": [
    {
     "data": {
      "text/html": [
       "<div>\n",
       "<style scoped>\n",
       "    .dataframe tbody tr th:only-of-type {\n",
       "        vertical-align: middle;\n",
       "    }\n",
       "\n",
       "    .dataframe tbody tr th {\n",
       "        vertical-align: top;\n",
       "    }\n",
       "\n",
       "    .dataframe thead th {\n",
       "        text-align: right;\n",
       "    }\n",
       "</style>\n",
       "<table border=\"1\" class=\"dataframe\">\n",
       "  <thead>\n",
       "    <tr style=\"text-align: right;\">\n",
       "      <th></th>\n",
       "      <th>InvoiceNo</th>\n",
       "      <th>StockCode</th>\n",
       "      <th>Description</th>\n",
       "      <th>Quantity</th>\n",
       "      <th>InvoiceDate</th>\n",
       "      <th>UnitPrice</th>\n",
       "      <th>CustomerID</th>\n",
       "      <th>Country</th>\n",
       "      <th>Target</th>\n",
       "    </tr>\n",
       "  </thead>\n",
       "  <tbody>\n",
       "    <tr>\n",
       "      <th>0</th>\n",
       "      <td>536365</td>\n",
       "      <td>85123A</td>\n",
       "      <td>White Hanging Heart T-Light Holder</td>\n",
       "      <td>6</td>\n",
       "      <td>2010-12-01 08:26:00</td>\n",
       "      <td>3.1620</td>\n",
       "      <td>17850.0</td>\n",
       "      <td>United Kingdom</td>\n",
       "      <td>1</td>\n",
       "    </tr>\n",
       "    <tr>\n",
       "      <th>1</th>\n",
       "      <td>536365</td>\n",
       "      <td>71053</td>\n",
       "      <td>White Metal Lantern</td>\n",
       "      <td>6</td>\n",
       "      <td>2010-12-01 08:26:00</td>\n",
       "      <td>4.2036</td>\n",
       "      <td>17850.0</td>\n",
       "      <td>United Kingdom</td>\n",
       "      <td>1</td>\n",
       "    </tr>\n",
       "    <tr>\n",
       "      <th>2</th>\n",
       "      <td>536365</td>\n",
       "      <td>84406B</td>\n",
       "      <td>Cream Cupid Hearts Coat Hanger</td>\n",
       "      <td>8</td>\n",
       "      <td>2010-12-01 08:26:00</td>\n",
       "      <td>3.4100</td>\n",
       "      <td>17850.0</td>\n",
       "      <td>United Kingdom</td>\n",
       "      <td>1</td>\n",
       "    </tr>\n",
       "    <tr>\n",
       "      <th>3</th>\n",
       "      <td>536365</td>\n",
       "      <td>84029G</td>\n",
       "      <td>Knitted Union Flag Hot Water Bottle</td>\n",
       "      <td>6</td>\n",
       "      <td>2010-12-01 08:26:00</td>\n",
       "      <td>4.2036</td>\n",
       "      <td>17850.0</td>\n",
       "      <td>United Kingdom</td>\n",
       "      <td>1</td>\n",
       "    </tr>\n",
       "    <tr>\n",
       "      <th>4</th>\n",
       "      <td>536365</td>\n",
       "      <td>84029E</td>\n",
       "      <td>Red Woolly Hottie White Heart.</td>\n",
       "      <td>6</td>\n",
       "      <td>2010-12-01 08:26:00</td>\n",
       "      <td>4.2036</td>\n",
       "      <td>17850.0</td>\n",
       "      <td>United Kingdom</td>\n",
       "      <td>1</td>\n",
       "    </tr>\n",
       "  </tbody>\n",
       "</table>\n",
       "</div>"
      ],
      "text/plain": [
       "  InvoiceNo StockCode                          Description  Quantity  \\\n",
       "0    536365    85123A   White Hanging Heart T-Light Holder         6   \n",
       "1    536365     71053                  White Metal Lantern         6   \n",
       "2    536365    84406B       Cream Cupid Hearts Coat Hanger         8   \n",
       "3    536365    84029G  Knitted Union Flag Hot Water Bottle         6   \n",
       "4    536365    84029E       Red Woolly Hottie White Heart.         6   \n",
       "\n",
       "          InvoiceDate  UnitPrice  CustomerID         Country  Target  \n",
       "0 2010-12-01 08:26:00     3.1620     17850.0  United Kingdom       1  \n",
       "1 2010-12-01 08:26:00     4.2036     17850.0  United Kingdom       1  \n",
       "2 2010-12-01 08:26:00     3.4100     17850.0  United Kingdom       1  \n",
       "3 2010-12-01 08:26:00     4.2036     17850.0  United Kingdom       1  \n",
       "4 2010-12-01 08:26:00     4.2036     17850.0  United Kingdom       1  "
      ]
     },
     "execution_count": 9,
     "metadata": {},
     "output_type": "execute_result"
    }
   ],
   "source": [
    "df['Description'] = df['Description'].str.title()\n",
    "df.head()"
   ]
  },
  {
   "cell_type": "markdown",
   "id": "c3a65b07",
   "metadata": {},
   "source": [
    "A quick look at the dataframe in Excel showed me that while every stock code seems unique, there is a specific code called 'POST' that is for postal service charges/shipping. I want to get rid of each row that contains 'POST' as a stockcode. "
   ]
  },
  {
   "cell_type": "code",
   "execution_count": 10,
   "id": "1ecc6529",
   "metadata": {},
   "outputs": [
    {
     "name": "stdout",
     "output_type": "stream",
     "text": [
      "1256\n",
      "Number of Rows: 541909\n"
     ]
    }
   ],
   "source": [
    "# Want to find the count of 'POST' stockcodes before deleting them\n",
    "print(df['StockCode'].str.contains(r'\\bPOST\\b', regex=True).sum())\n",
    "print('Number of Rows: {}'.format(df.shape[0]))"
   ]
  },
  {
   "cell_type": "code",
   "execution_count": 11,
   "id": "b702968d",
   "metadata": {},
   "outputs": [
    {
     "name": "stdout",
     "output_type": "stream",
     "text": [
      "Number of Rows: 540653\n"
     ]
    }
   ],
   "source": [
    "# delete the rows with POST and count how many instances of rows there are after the deletion\n",
    "\n",
    "# had an error at first: made sure the stockcode was a string type and set the argument na=false\n",
    "df['StockCode'] = df['StockCode'].astype(str)\n",
    "\n",
    "df = df[~df['StockCode'].str.contains(r'\\bPOST\\b', regex=True, na=False)]\n",
    "print('Number of Rows: {}'.format(df.shape[0]))"
   ]
  },
  {
   "cell_type": "markdown",
   "id": "db5dddad",
   "metadata": {},
   "source": [
    "Now I need to do the preprocessing that relates to jewelery. I will have to pull out the possible jewelery words from the 'Description' column and make a new column of a binary classification which I will call 'Jewlery_Present', and 1 means yes, this item contains at least one word of 'jewlery' in it, or 0 where no, this item is not categorized as a jewlery item. "
   ]
  },
  {
   "cell_type": "code",
   "execution_count": 12,
   "id": "9f70bcec",
   "metadata": {},
   "outputs": [
    {
     "name": "stdout",
     "output_type": "stream",
     "text": [
      "Set          54598\n",
      "Of           53351\n",
      "Bag          51911\n",
      "Red          42902\n",
      "Heart        38714\n",
      "             ...  \n",
      "Set?             1\n",
      "Trading          1\n",
      "Zero             1\n",
      "Invc             1\n",
      "Fragrance        1\n",
      "Name: count, Length: 2536, dtype: int64\n"
     ]
    }
   ],
   "source": [
    "# need to find all possible words that relate to jewlery first\n",
    "\n",
    "# we set the expand argument inside of our split() to true so that it doesnt just return a list of strings\n",
    "print(df['Description'].str.split(expand=True).stack().value_counts())"
   ]
  },
  {
   "cell_type": "markdown",
   "id": "a0954ebd",
   "metadata": {},
   "source": [
    "While my above method technically worked, it's not actually very optimal: it is clear that the number of unique words is too much to display all at once (~2500 words), but I need to be able to scroll through all of them. \n",
    "\n",
    "I will be borrowing a method from my data visualization class (IS 445) using a library called ipywidgets. ipywidgets is a library that can be used in environments such as Jupyter Notebooks to visualize python objects. Different types of widgets include things like sliders, toggle buttons, dropdown menus, etc. \n",
    "\n",
    "Documentation can be found at: https://ipywidgets.readthedocs.io/en/latest/examples/Widget%20List.html\n",
    "This documentation also discusses IPython, which can be used in browsers like Jupyter Notebooks for integrating mixed media: https://ipywidgets.readthedocs.io/en/latest/examples/Output%20Widget.html"
   ]
  },
  {
   "cell_type": "code",
   "execution_count": 13,
   "id": "1a41bf79",
   "metadata": {},
   "outputs": [],
   "source": [
    "import ipywidgets\n",
    "from IPython.display import display"
   ]
  },
  {
   "cell_type": "code",
   "execution_count": 14,
   "id": "681f1c6a",
   "metadata": {},
   "outputs": [
    {
     "data": {
      "application/vnd.jupyter.widget-view+json": {
       "model_id": "6bffdd614a5848348a5220923b150837",
       "version_major": 2,
       "version_minor": 0
      },
      "text/plain": [
       "interactive(children=(IntSlider(value=30, description='rows', max=60, min=5, step=5), Output()), _dom_classes=…"
      ]
     },
     "metadata": {},
     "output_type": "display_data"
    }
   ],
   "source": [
    "words = df['Description'].str.split(expand=True).stack().value_counts()\n",
    "\n",
    "@ipywidgets.interact()\n",
    "def display_words(rows=(5,60,5)): # start at 5, go to 60, step by 5\n",
    "    display(words.head(rows))"
   ]
  },
  {
   "cell_type": "markdown",
   "id": "8d260c59",
   "metadata": {},
   "source": [
    "Looking at my improved list now, it's still not where I want it to be. While this method can be refined, it may be a bit more difficult than I originally thought it to be, and thus I would rather write a csv file to manually look through the words myself than continue to put effort into visualizing it here.\n",
    "\n",
    "Note; this is hard coded based on my absolute path working directory. I have commented out this code after the file has been written so that it is not written multiple times."
   ]
  },
  {
   "cell_type": "code",
   "execution_count": 15,
   "id": "71d44515",
   "metadata": {},
   "outputs": [],
   "source": [
    "# import os\n",
    "# os.getcwd()\n",
    "# words_csv = words.to_csv('/home/ec2-user/SageMaker/IS597MLC-FinalProj/data/words_csv')"
   ]
  },
  {
   "cell_type": "markdown",
   "id": "d3acb68d",
   "metadata": {},
   "source": [
    "I now need to make a decision I did not anticipate when I made this project. I am trying to only limit the key words to be directly related to jewlery items, so I am not including key descriptors such as 'gold' or 'metal' that could apply to other items.\n",
    "\n",
    "Originally, in a quick look in Excel, I thought I would only have about 6 key words, and I underestimated how many I have from this list: I found 14 key words. They are the following, listed with their counts:\n",
    "- 'Ring', 1772\n",
    "- 'Bracelet', 1206\n",
    "- 'Jewellery', 824\n",
    "- 'Earrings', 741\n",
    "- 'Necklace', 669\n",
    "- 'Rings', 114\n",
    "- 'Pendant', 69\n",
    "- 'Necklace+Bracelet', 67\n",
    "- 'Bangle', 35\n",
    "- 'Earring', 25\n",
    "- 'Necklac', 25\n",
    "- 'Neckl', 10\n",
    "- 'Braclet', 4\n",
    "- 'Necklace-Leaf', 2\n",
    "\n",
    "The limitations of this manual search will be addressed in the final report, but for now I had to think about my algorithm for this project. The counts of these jewlery items puts me at 5,563 times. Compared to the size of the dataset, this is a very small sample, and something I did not see coming. Though my algorithm choice wasn't discussed in the inital project, looking at this made me think to use a more forgiving algorithm like a decision tree, and I had to do some research into decision trees at this point. \n",
    "\n",
    "I have decided to proceed with my goal as originally planned, but again, limitations of sticking to this goal and challenges that came with it will be further addressed in the final report. "
   ]
  },
  {
   "cell_type": "code",
   "execution_count": 16,
   "id": "1687e709",
   "metadata": {},
   "outputs": [
    {
     "data": {
      "text/html": [
       "<div>\n",
       "<style scoped>\n",
       "    .dataframe tbody tr th:only-of-type {\n",
       "        vertical-align: middle;\n",
       "    }\n",
       "\n",
       "    .dataframe tbody tr th {\n",
       "        vertical-align: top;\n",
       "    }\n",
       "\n",
       "    .dataframe thead th {\n",
       "        text-align: right;\n",
       "    }\n",
       "</style>\n",
       "<table border=\"1\" class=\"dataframe\">\n",
       "  <thead>\n",
       "    <tr style=\"text-align: right;\">\n",
       "      <th></th>\n",
       "      <th>InvoiceNo</th>\n",
       "      <th>StockCode</th>\n",
       "      <th>Description</th>\n",
       "      <th>Quantity</th>\n",
       "      <th>InvoiceDate</th>\n",
       "      <th>UnitPrice</th>\n",
       "      <th>CustomerID</th>\n",
       "      <th>Country</th>\n",
       "      <th>Target</th>\n",
       "      <th>Jewelry_Present</th>\n",
       "    </tr>\n",
       "  </thead>\n",
       "  <tbody>\n",
       "    <tr>\n",
       "      <th>0</th>\n",
       "      <td>536365</td>\n",
       "      <td>85123A</td>\n",
       "      <td>White Hanging Heart T-Light Holder</td>\n",
       "      <td>6</td>\n",
       "      <td>2010-12-01 08:26:00</td>\n",
       "      <td>3.1620</td>\n",
       "      <td>17850.0</td>\n",
       "      <td>United Kingdom</td>\n",
       "      <td>1</td>\n",
       "      <td>0</td>\n",
       "    </tr>\n",
       "    <tr>\n",
       "      <th>1</th>\n",
       "      <td>536365</td>\n",
       "      <td>71053</td>\n",
       "      <td>White Metal Lantern</td>\n",
       "      <td>6</td>\n",
       "      <td>2010-12-01 08:26:00</td>\n",
       "      <td>4.2036</td>\n",
       "      <td>17850.0</td>\n",
       "      <td>United Kingdom</td>\n",
       "      <td>1</td>\n",
       "      <td>0</td>\n",
       "    </tr>\n",
       "    <tr>\n",
       "      <th>2</th>\n",
       "      <td>536365</td>\n",
       "      <td>84406B</td>\n",
       "      <td>Cream Cupid Hearts Coat Hanger</td>\n",
       "      <td>8</td>\n",
       "      <td>2010-12-01 08:26:00</td>\n",
       "      <td>3.4100</td>\n",
       "      <td>17850.0</td>\n",
       "      <td>United Kingdom</td>\n",
       "      <td>1</td>\n",
       "      <td>0</td>\n",
       "    </tr>\n",
       "    <tr>\n",
       "      <th>3</th>\n",
       "      <td>536365</td>\n",
       "      <td>84029G</td>\n",
       "      <td>Knitted Union Flag Hot Water Bottle</td>\n",
       "      <td>6</td>\n",
       "      <td>2010-12-01 08:26:00</td>\n",
       "      <td>4.2036</td>\n",
       "      <td>17850.0</td>\n",
       "      <td>United Kingdom</td>\n",
       "      <td>1</td>\n",
       "      <td>0</td>\n",
       "    </tr>\n",
       "    <tr>\n",
       "      <th>4</th>\n",
       "      <td>536365</td>\n",
       "      <td>84029E</td>\n",
       "      <td>Red Woolly Hottie White Heart.</td>\n",
       "      <td>6</td>\n",
       "      <td>2010-12-01 08:26:00</td>\n",
       "      <td>4.2036</td>\n",
       "      <td>17850.0</td>\n",
       "      <td>United Kingdom</td>\n",
       "      <td>1</td>\n",
       "      <td>0</td>\n",
       "    </tr>\n",
       "  </tbody>\n",
       "</table>\n",
       "</div>"
      ],
      "text/plain": [
       "  InvoiceNo StockCode                          Description  Quantity  \\\n",
       "0    536365    85123A   White Hanging Heart T-Light Holder         6   \n",
       "1    536365     71053                  White Metal Lantern         6   \n",
       "2    536365    84406B       Cream Cupid Hearts Coat Hanger         8   \n",
       "3    536365    84029G  Knitted Union Flag Hot Water Bottle         6   \n",
       "4    536365    84029E       Red Woolly Hottie White Heart.         6   \n",
       "\n",
       "          InvoiceDate  UnitPrice  CustomerID         Country  Target  \\\n",
       "0 2010-12-01 08:26:00     3.1620     17850.0  United Kingdom       1   \n",
       "1 2010-12-01 08:26:00     4.2036     17850.0  United Kingdom       1   \n",
       "2 2010-12-01 08:26:00     3.4100     17850.0  United Kingdom       1   \n",
       "3 2010-12-01 08:26:00     4.2036     17850.0  United Kingdom       1   \n",
       "4 2010-12-01 08:26:00     4.2036     17850.0  United Kingdom       1   \n",
       "\n",
       "   Jewelry_Present  \n",
       "0                0  \n",
       "1                0  \n",
       "2                0  \n",
       "3                0  \n",
       "4                0  "
      ]
     },
     "execution_count": 16,
     "metadata": {},
     "output_type": "execute_result"
    }
   ],
   "source": [
    "# pulling our key words from our search\n",
    "keywords = ['Ring', 'Bracelet', 'Jewellery', 'Earrings', 'Pendant', 'Necklace+Bracelet', 'Bangle', 'Earring', \n",
    "            'Necklac', 'Braclet', 'Necklace-Leaf']\n",
    "# creating a pattern using '|' because it acts as an 'or' operator that we can use for str.contains()\n",
    "# str.contains documentation used : https://pandas.pydata.org/docs/reference/api/pandas.Series.str.contains.html\n",
    "search_pattern = '|'.join(keywords)\n",
    "\n",
    "df['Jewelry_Present'] = df['Description'].str.contains(search_pattern, case=False, na=False)\n",
    "df['Jewelry_Present'] = df['Jewelry_Present'].astype(int)\n",
    "\n",
    "df.head()"
   ]
  },
  {
   "cell_type": "markdown",
   "id": "227428b9",
   "metadata": {},
   "source": [
    "Now we move to answer our descriptive questions, starting with: is the proportion of jewlery purchases highest in May 2011? We need to look at the 1s in the newly created Jewlery_Present column compared to InvoiceDate to find out."
   ]
  },
  {
   "cell_type": "code",
   "execution_count": 17,
   "id": "ee95fbc4",
   "metadata": {},
   "outputs": [],
   "source": [
    "# documentation for Grouper from pandas since it is a good way to group date time objects by a certain index\n",
    "# I found out it was a good way via this stack overflow thread: \n",
    "# https://stackoverflow.com/questions/47015886/pandas-grouper-vs-time-grouper\n",
    "# documentation:\n",
    "# https://pandas.pydata.org/docs/reference/api/pandas.Grouper.html\n",
    "from pandas import Grouper as G"
   ]
  },
  {
   "cell_type": "code",
   "execution_count": 18,
   "id": "ece8737c",
   "metadata": {},
   "outputs": [
    {
     "name": "stdout",
     "output_type": "stream",
     "text": [
      "Time period with highest Jewlery Purchases: \n",
      "InvoiceDate        2010-12-31 00:00:00\n",
      "Jewelry_Present               0.029661\n",
      "Name: 0, dtype: object\n"
     ]
    }
   ],
   "source": [
    "# frequency is 'YE' for calendar year ending (frequency rates can be found from documentation)\n",
    "# we group by InvoiceDate using the calendar year end, since our dataset starts in December 2010\n",
    "# we reset the index at the end so it's not stuck on being grouped\n",
    "df2 = df.groupby(G(key='InvoiceDate', freq='YE'))['Jewelry_Present'].mean().reset_index()\n",
    "\n",
    "# documentation on idxmax for returning the index of the max value\n",
    "# https://pandas.pydata.org/docs/reference/api/pandas.DataFrame.idxmax.html\n",
    "ones_ratio = df2.loc[df2['Jewelry_Present'].idxmax()]\n",
    "print(f'Time period with highest Jewlery Purchases: \\n{ones_ratio}')"
   ]
  },
  {
   "cell_type": "markdown",
   "id": "a6474303",
   "metadata": {},
   "source": [
    "It wasn't what I thought it would be: the highest proportion suggestions it was on New Years Eve in 2010. Potentially this makes sense because New Years is a holiday typically associated with partying and jewelry could be encompassed in the glamour of that. But regardless of whatever theory I have, it seems my hypothesis on the influence of the Royal Wedding on the lives of UK citizens is not supported here."
   ]
  },
  {
   "cell_type": "markdown",
   "id": "6e4d8b78",
   "metadata": {},
   "source": [
    "Now I want to answer how jewelry compares to other types of products purchased. I want to calculate the proportion of jewlery purchased based on customer ID's to examine, out of the toal number of types of products customers are buying, what proportion of those purchases are jewlery?"
   ]
  },
  {
   "cell_type": "code",
   "execution_count": 19,
   "id": "56d3a11a",
   "metadata": {},
   "outputs": [
    {
     "data": {
      "text/html": [
       "<div>\n",
       "<style scoped>\n",
       "    .dataframe tbody tr th:only-of-type {\n",
       "        vertical-align: middle;\n",
       "    }\n",
       "\n",
       "    .dataframe tbody tr th {\n",
       "        vertical-align: top;\n",
       "    }\n",
       "\n",
       "    .dataframe thead th {\n",
       "        text-align: right;\n",
       "    }\n",
       "</style>\n",
       "<table border=\"1\" class=\"dataframe\">\n",
       "  <thead>\n",
       "    <tr style=\"text-align: right;\">\n",
       "      <th></th>\n",
       "      <th>Total</th>\n",
       "      <th>Jewelry_Purchase_Amount</th>\n",
       "      <th>Jewelry_Proportion</th>\n",
       "    </tr>\n",
       "    <tr>\n",
       "      <th>CustomerID</th>\n",
       "      <th></th>\n",
       "      <th></th>\n",
       "      <th></th>\n",
       "    </tr>\n",
       "  </thead>\n",
       "  <tbody>\n",
       "    <tr>\n",
       "      <th>12346.0</th>\n",
       "      <td>2</td>\n",
       "      <td>0</td>\n",
       "      <td>0.000000</td>\n",
       "    </tr>\n",
       "    <tr>\n",
       "      <th>12347.0</th>\n",
       "      <td>182</td>\n",
       "      <td>9</td>\n",
       "      <td>0.049451</td>\n",
       "    </tr>\n",
       "    <tr>\n",
       "      <th>12348.0</th>\n",
       "      <td>27</td>\n",
       "      <td>0</td>\n",
       "      <td>0.000000</td>\n",
       "    </tr>\n",
       "    <tr>\n",
       "      <th>12349.0</th>\n",
       "      <td>72</td>\n",
       "      <td>2</td>\n",
       "      <td>0.027778</td>\n",
       "    </tr>\n",
       "    <tr>\n",
       "      <th>12350.0</th>\n",
       "      <td>16</td>\n",
       "      <td>0</td>\n",
       "      <td>0.000000</td>\n",
       "    </tr>\n",
       "  </tbody>\n",
       "</table>\n",
       "</div>"
      ],
      "text/plain": [
       "            Total  Jewelry_Purchase_Amount  Jewelry_Proportion\n",
       "CustomerID                                                    \n",
       "12346.0         2                        0            0.000000\n",
       "12347.0       182                        9            0.049451\n",
       "12348.0        27                        0            0.000000\n",
       "12349.0        72                        2            0.027778\n",
       "12350.0        16                        0            0.000000"
      ]
     },
     "execution_count": 19,
     "metadata": {},
     "output_type": "execute_result"
    }
   ],
   "source": [
    "# we want to use groupby to group by customer IDs. we will be adding aggregate columns to represent total purchase\n",
    "# counts, and what amount of that count is jewelry\n",
    "proportions = df.groupby('CustomerID')['Jewelry_Present'].agg(Total='count', Jewelry_Purchase_Amount='sum')\n",
    "\n",
    "# we make a jewelry proportion column by dividing jewelry_purchase_amount (a sum) over the total stuff purchased\n",
    "proportions['Jewelry_Proportion'] = proportions['Jewelry_Purchase_Amount']/proportions['Total']\n",
    "\n",
    "proportions.head()"
   ]
  },
  {
   "cell_type": "code",
   "execution_count": 20,
   "id": "bba00ed8",
   "metadata": {},
   "outputs": [
    {
     "data": {
      "text/plain": [
       "(array([4.222e+03, 1.120e+02, 2.300e+01, 9.000e+00, 2.000e+00, 2.000e+00,\n",
       "        0.000e+00, 0.000e+00, 0.000e+00, 2.000e+00]),\n",
       " array([0. , 0.1, 0.2, 0.3, 0.4, 0.5, 0.6, 0.7, 0.8, 0.9, 1. ]),\n",
       " <BarContainer object of 10 artists>)"
      ]
     },
     "execution_count": 20,
     "metadata": {},
     "output_type": "execute_result"
    },
    {
     "data": {
      "image/png": "[encoded data removed]",
      "text/plain": [
       "<Figure size 640x480 with 1 Axes>"
      ]
     },
     "metadata": {},
     "output_type": "display_data"
    }
   ],
   "source": [
    "# histogram to visualize the proportion of jewlery purchases (x) against its frequency (y)\n",
    "plt.hist(proportions['Jewelry_Proportion'])"
   ]
  },
  {
   "cell_type": "markdown",
   "id": "900e61c7",
   "metadata": {},
   "source": [
    "I wanted to look at which customers are the ones with the highest jewelry proportions (aka, who are our favorite customers for the scope of this project), so I did this using sort_values. "
   ]
  },
  {
   "cell_type": "code",
   "execution_count": 21,
   "id": "8a6938f6",
   "metadata": {},
   "outputs": [
    {
     "data": {
      "text/html": [
       "<div>\n",
       "<style scoped>\n",
       "    .dataframe tbody tr th:only-of-type {\n",
       "        vertical-align: middle;\n",
       "    }\n",
       "\n",
       "    .dataframe tbody tr th {\n",
       "        vertical-align: top;\n",
       "    }\n",
       "\n",
       "    .dataframe thead th {\n",
       "        text-align: right;\n",
       "    }\n",
       "</style>\n",
       "<table border=\"1\" class=\"dataframe\">\n",
       "  <thead>\n",
       "    <tr style=\"text-align: right;\">\n",
       "      <th></th>\n",
       "      <th>Total</th>\n",
       "      <th>Jewelry_Purchase_Amount</th>\n",
       "      <th>Jewelry_Proportion</th>\n",
       "    </tr>\n",
       "    <tr>\n",
       "      <th>CustomerID</th>\n",
       "      <th></th>\n",
       "      <th></th>\n",
       "      <th></th>\n",
       "    </tr>\n",
       "  </thead>\n",
       "  <tbody>\n",
       "    <tr>\n",
       "      <th>14053.0</th>\n",
       "      <td>4</td>\n",
       "      <td>4</td>\n",
       "      <td>1.000000</td>\n",
       "    </tr>\n",
       "    <tr>\n",
       "      <th>12612.0</th>\n",
       "      <td>20</td>\n",
       "      <td>18</td>\n",
       "      <td>0.900000</td>\n",
       "    </tr>\n",
       "    <tr>\n",
       "      <th>13790.0</th>\n",
       "      <td>45</td>\n",
       "      <td>25</td>\n",
       "      <td>0.555556</td>\n",
       "    </tr>\n",
       "    <tr>\n",
       "      <th>14609.0</th>\n",
       "      <td>4</td>\n",
       "      <td>2</td>\n",
       "      <td>0.500000</td>\n",
       "    </tr>\n",
       "    <tr>\n",
       "      <th>17985.0</th>\n",
       "      <td>23</td>\n",
       "      <td>11</td>\n",
       "      <td>0.478261</td>\n",
       "    </tr>\n",
       "  </tbody>\n",
       "</table>\n",
       "</div>"
      ],
      "text/plain": [
       "            Total  Jewelry_Purchase_Amount  Jewelry_Proportion\n",
       "CustomerID                                                    \n",
       "14053.0         4                        4            1.000000\n",
       "12612.0        20                       18            0.900000\n",
       "13790.0        45                       25            0.555556\n",
       "14609.0         4                        2            0.500000\n",
       "17985.0        23                       11            0.478261"
      ]
     },
     "execution_count": 21,
     "metadata": {},
     "output_type": "execute_result"
    }
   ],
   "source": [
    "favorite_customers = proportions.sort_values(by='Jewelry_Proportion',ascending=False).head(5)\n",
    "favorite_customers"
   ]
  },
  {
   "cell_type": "markdown",
   "id": "01feed30",
   "metadata": {},
   "source": [
    "We write our cleaned dataframe to our data folder for this project. Once again, this is hard coded and commented out so that it doesn't recreate itself again."
   ]
  },
  {
   "cell_type": "code",
   "execution_count": 22,
   "id": "a041c3ce",
   "metadata": {},
   "outputs": [],
   "source": [
    "# Online_Retail_Cleaned = df.to_csv('/home/ec2-user/SageMaker/IS597MLC-FinalProj/data/Online_Retail_Cleaned')"
   ]
  },
  {
   "cell_type": "code",
   "execution_count": null,
   "id": "286b2df6",
   "metadata": {},
   "outputs": [],
   "source": []
  }
 ],
 "metadata": {
  "kernelspec": {
   "display_name": "conda_python3",
   "language": "python",
   "name": "conda_python3"
  },
  "language_info": {
   "codemirror_mode": {
    "name": "ipython",
    "version": 3
   },
   "file_extension": ".py",
   "mimetype": "text/x-python",
   "name": "python",
   "nbconvert_exporter": "python",
   "pygments_lexer": "ipython3",
   "version": "3.10.13"
  }
 },
 "nbformat": 4,
 "nbformat_minor": 5
}
