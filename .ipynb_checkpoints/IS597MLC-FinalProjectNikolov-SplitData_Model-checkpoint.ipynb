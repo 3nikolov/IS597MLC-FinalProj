{
 "cells": [
  {
   "cell_type": "markdown",
   "id": "b3b99512",
   "metadata": {},
   "source": [
    "This notebook contains the portion of my project that involves splitting the data and making a model."
   ]
  },
  {
   "cell_type": "markdown",
   "id": "19139e1a",
   "metadata": {},
   "source": [
    "# Research Question:\n",
    "\n",
    "## Main Question:\n",
    "- Does the price of purchased jewelry predict what country the customer resides in? (target = country)"
   ]
  },
  {
   "cell_type": "code",
   "execution_count": 1,
   "id": "94f3497c",
   "metadata": {},
   "outputs": [
    {
     "name": "stderr",
     "output_type": "stream",
     "text": [
      "Matplotlib is building the font cache; this may take a moment.\n"
     ]
    }
   ],
   "source": [
    "import pandas as pd\n",
    "import matplotlib.pyplot as plt\n",
    "import numpy as np\n",
    "import nltk\n",
    "from sklearn.model_selection import train_test_split\n",
    "import numpy as np"
   ]
  },
  {
   "cell_type": "code",
   "execution_count": 2,
   "id": "01c56b68",
   "metadata": {},
   "outputs": [
    {
     "data": {
      "text/html": [
       "<div>\n",
       "<style scoped>\n",
       "    .dataframe tbody tr th:only-of-type {\n",
       "        vertical-align: middle;\n",
       "    }\n",
       "\n",
       "    .dataframe tbody tr th {\n",
       "        vertical-align: top;\n",
       "    }\n",
       "\n",
       "    .dataframe thead th {\n",
       "        text-align: right;\n",
       "    }\n",
       "</style>\n",
       "<table border=\"1\" class=\"dataframe\">\n",
       "  <thead>\n",
       "    <tr style=\"text-align: right;\">\n",
       "      <th></th>\n",
       "      <th>Unnamed: 0</th>\n",
       "      <th>InvoiceNo</th>\n",
       "      <th>StockCode</th>\n",
       "      <th>Description</th>\n",
       "      <th>Quantity</th>\n",
       "      <th>InvoiceDate</th>\n",
       "      <th>UnitPrice</th>\n",
       "      <th>CustomerID</th>\n",
       "      <th>Country</th>\n",
       "      <th>Target</th>\n",
       "      <th>Jewelry_Present</th>\n",
       "    </tr>\n",
       "  </thead>\n",
       "  <tbody>\n",
       "    <tr>\n",
       "      <th>0</th>\n",
       "      <td>0</td>\n",
       "      <td>536365</td>\n",
       "      <td>85123A</td>\n",
       "      <td>White Hanging Heart T-Light Holder</td>\n",
       "      <td>6</td>\n",
       "      <td>2010-12-01 08:26:00</td>\n",
       "      <td>3.1620</td>\n",
       "      <td>17850.0</td>\n",
       "      <td>United Kingdom</td>\n",
       "      <td>1</td>\n",
       "      <td>0</td>\n",
       "    </tr>\n",
       "    <tr>\n",
       "      <th>1</th>\n",
       "      <td>1</td>\n",
       "      <td>536365</td>\n",
       "      <td>71053</td>\n",
       "      <td>White Metal Lantern</td>\n",
       "      <td>6</td>\n",
       "      <td>2010-12-01 08:26:00</td>\n",
       "      <td>4.2036</td>\n",
       "      <td>17850.0</td>\n",
       "      <td>United Kingdom</td>\n",
       "      <td>1</td>\n",
       "      <td>0</td>\n",
       "    </tr>\n",
       "    <tr>\n",
       "      <th>2</th>\n",
       "      <td>2</td>\n",
       "      <td>536365</td>\n",
       "      <td>84406B</td>\n",
       "      <td>Cream Cupid Hearts Coat Hanger</td>\n",
       "      <td>8</td>\n",
       "      <td>2010-12-01 08:26:00</td>\n",
       "      <td>3.4100</td>\n",
       "      <td>17850.0</td>\n",
       "      <td>United Kingdom</td>\n",
       "      <td>1</td>\n",
       "      <td>0</td>\n",
       "    </tr>\n",
       "    <tr>\n",
       "      <th>3</th>\n",
       "      <td>3</td>\n",
       "      <td>536365</td>\n",
       "      <td>84029G</td>\n",
       "      <td>Knitted Union Flag Hot Water Bottle</td>\n",
       "      <td>6</td>\n",
       "      <td>2010-12-01 08:26:00</td>\n",
       "      <td>4.2036</td>\n",
       "      <td>17850.0</td>\n",
       "      <td>United Kingdom</td>\n",
       "      <td>1</td>\n",
       "      <td>0</td>\n",
       "    </tr>\n",
       "    <tr>\n",
       "      <th>4</th>\n",
       "      <td>4</td>\n",
       "      <td>536365</td>\n",
       "      <td>84029E</td>\n",
       "      <td>Red Woolly Hottie White Heart.</td>\n",
       "      <td>6</td>\n",
       "      <td>2010-12-01 08:26:00</td>\n",
       "      <td>4.2036</td>\n",
       "      <td>17850.0</td>\n",
       "      <td>United Kingdom</td>\n",
       "      <td>1</td>\n",
       "      <td>0</td>\n",
       "    </tr>\n",
       "  </tbody>\n",
       "</table>\n",
       "</div>"
      ],
      "text/plain": [
       "   Unnamed: 0 InvoiceNo StockCode                          Description  \\\n",
       "0           0    536365    85123A   White Hanging Heart T-Light Holder   \n",
       "1           1    536365     71053                  White Metal Lantern   \n",
       "2           2    536365    84406B       Cream Cupid Hearts Coat Hanger   \n",
       "3           3    536365    84029G  Knitted Union Flag Hot Water Bottle   \n",
       "4           4    536365    84029E       Red Woolly Hottie White Heart.   \n",
       "\n",
       "   Quantity          InvoiceDate  UnitPrice  CustomerID         Country  \\\n",
       "0         6  2010-12-01 08:26:00     3.1620     17850.0  United Kingdom   \n",
       "1         6  2010-12-01 08:26:00     4.2036     17850.0  United Kingdom   \n",
       "2         8  2010-12-01 08:26:00     3.4100     17850.0  United Kingdom   \n",
       "3         6  2010-12-01 08:26:00     4.2036     17850.0  United Kingdom   \n",
       "4         6  2010-12-01 08:26:00     4.2036     17850.0  United Kingdom   \n",
       "\n",
       "   Target  Jewelry_Present  \n",
       "0       1                0  \n",
       "1       1                0  \n",
       "2       1                0  \n",
       "3       1                0  \n",
       "4       1                0  "
      ]
     },
     "execution_count": 2,
     "metadata": {},
     "output_type": "execute_result"
    }
   ],
   "source": [
    "infile = 'data/Online_Retail_Cleaned'\n",
    "\n",
    "df = pd.read_csv(infile)\n",
    "df.head()"
   ]
  },
  {
   "cell_type": "code",
   "execution_count": 3,
   "id": "3b301de4",
   "metadata": {},
   "outputs": [
    {
     "name": "stdout",
     "output_type": "stream",
     "text": [
      "Training Data: (486587, 2)\n",
      "Testing Data: (486587,)\n",
      "\n",
      "Class Counts(label, row): Train \n",
      "<bound method DataFrame.value_counts of         UnitPrice  Jewelry_Present\n",
      "130858   143.1208                0\n",
      "80618      2.0460                0\n",
      "195607     6.1504                0\n",
      "135944     3.6580                0\n",
      "527592     4.0796                0\n",
      "...           ...              ...\n",
      "320085     1.0540                0\n",
      "501513     6.1752                0\n",
      "102643     3.6580                0\n",
      "10003      3.1620                0\n",
      "315971     7.1796                0\n",
      "\n",
      "[54066 rows x 2 columns]>\n",
      "\n",
      "Class Counts(label, row): Test \n",
      "<bound method IndexOpsMixin.value_counts of 130858    1\n",
      "80618     1\n",
      "195607    1\n",
      "135944    1\n",
      "527592    1\n",
      "         ..\n",
      "320085    1\n",
      "501513    1\n",
      "102643    1\n",
      "10003     1\n",
      "315971    1\n",
      "Name: Target, Length: 54066, dtype: int64>\n",
      "\n",
      "Data View: X Train \n",
      "        UnitPrice  Jewelry_Present\n",
      "111901     4.6500                0\n",
      "6548       5.2700                0\n",
      "98871      0.5208                0\n",
      "\n",
      "Data View: X Test \n",
      "111901    1\n",
      "6548      1\n",
      "98871     1\n",
      "Name: Target, dtype: int64\n"
     ]
    }
   ],
   "source": [
    "# Define X and y based on my question\n",
    "X = df[['UnitPrice', 'Jewelry_Present']]\n",
    "y = df['Target']\n",
    "\n",
    "# split and I want my ratio to be 90% Train, 10% Test, random state will be 50\n",
    "X_train, y_train, X_test, y_test = train_test_split(X, y, test_size=0.1, random_state=50)\n",
    "\n",
    "print('Training Data: {}'.format(X_train.shape))\n",
    "print('Testing Data: {}'.format(X_test.shape))\n",
    "\n",
    "print(f'\\nClass Counts(label, row): Train \\n{y_train.value_counts}')\n",
    "print(f'\\nClass Counts(label, row): Test \\n{y_test.value_counts}')\n",
    "\n",
    "print(f'\\nData View: X Train \\n{X_train.head(3)}')\n",
    "print(f'\\nData View: X Test \\n{X_test.head(3)}')"
   ]
  },
  {
   "cell_type": "markdown",
   "id": "c23ab643",
   "metadata": {},
   "source": [
    "Something to keep in mind is up until this point I have not considered adding more features or normalizing my data or any other tweaks. I hope to see how my model goes and then hopefully we can refine the process. We will now be trying a decision tree model."
   ]
  },
  {
   "cell_type": "code",
   "execution_count": 4,
   "id": "471a86d2",
   "metadata": {},
   "outputs": [],
   "source": [
    "from sklearn.tree import DecisionTreeClassifier"
   ]
  },
  {
   "cell_type": "code",
   "execution_count": 5,
   "id": "89858a6a",
   "metadata": {},
   "outputs": [],
   "source": [
    "DT_model = DecisionTreeClassifier()"
   ]
  },
  {
   "cell_type": "markdown",
   "id": "9f68af4b",
   "metadata": {},
   "source": [
    "An error I did not anticipate is that for the decision tree, \"Unknown label type: continuous-multioutput. Maybe you are trying to fit a classifier, which expects discrete classes on a regression target with continuous values.\" You live and you learn: mistakes are part of the process. We likely need to revisit some preprocessing to fix these errors. "
   ]
  },
  {
   "cell_type": "code",
   "execution_count": 6,
   "id": "889365ae",
   "metadata": {},
   "outputs": [
    {
     "name": "stdout",
     "output_type": "stream",
     "text": [
      "int64\n",
      "[1 0]\n",
      "0\n"
     ]
    }
   ],
   "source": [
    "# trying to tackle the error of continuous-multioutput / continuous value error of decision tree model first\n",
    "# things that could be causing errors: wrong type, any unanticipated values other than 1 or 0, NaN values.\n",
    "print(df['Target'].dtype)\n",
    "print(df['Target'].unique())\n",
    "print(df['Target'].isnull().sum())"
   ]
  },
  {
   "cell_type": "markdown",
   "id": "9001abeb",
   "metadata": {},
   "source": [
    "It seems like it's not any of these errors, because I have integer (not float) values, no missing values and only 1s and 0s in the target class. We will explore a different route then. Scikit-learn's LabelEncoder function is for encoding target labels, so I will put my y target class through this."
   ]
  },
  {
   "cell_type": "code",
   "execution_count": 7,
   "id": "ff4d3ed0",
   "metadata": {},
   "outputs": [],
   "source": [
    "from sklearn.preprocessing import LabelEncoder\n",
    "\n",
    "X = df[['UnitPrice', 'Jewelry_Present']]\n",
    "y = LabelEncoder().fit_transform(df['Target'])\n",
    "\n",
    "# split and I want my ratio to be 90% Train, 10% Test, random state will be 50\n",
    "X_train, y_train, X_test, y_test = train_test_split(X, y, test_size=0.10, random_state=50)\n"
   ]
  },
  {
   "cell_type": "code",
   "execution_count": 8,
   "id": "ade3c5f4",
   "metadata": {},
   "outputs": [
    {
     "name": "stdout",
     "output_type": "stream",
     "text": [
      "[1 1 1 ... 0 0 0]\n",
      "(540653,)\n",
      "{0, 1}\n",
      "(54066, 2)\n"
     ]
    }
   ],
   "source": [
    "print(y)\n",
    "print(y.shape)\n",
    "print(set(y))\n",
    "\n",
    "print(y_train.shape)"
   ]
  },
  {
   "cell_type": "code",
   "execution_count": 9,
   "id": "00e21415",
   "metadata": {},
   "outputs": [
    {
     "data": {
      "text/plain": [
       "(array([0, 1]), array([ 45319, 495334]))"
      ]
     },
     "execution_count": 9,
     "metadata": {},
     "output_type": "execute_result"
    }
   ],
   "source": [
    "np.unique(y, return_counts=True)"
   ]
  },
  {
   "cell_type": "markdown",
   "id": "f92f3f5b",
   "metadata": {},
   "source": [
    "The issue might be displayed above when we look at my counts: the classes are very disproportionately distributed. One class has only around 45000 while the other has around 495000. It is only here where I also realized I actually previously had the order of the splitting data wrong: I had y_train in the place of X_test, and it split incorrectly which is why I was getting so many errors: I am leaving the code above in here as part of showing that this process can have mistakes, and to show my thought process behind getting out of it."
   ]
  },
  {
   "cell_type": "code",
   "execution_count": 10,
   "id": "c3ce9990",
   "metadata": {},
   "outputs": [],
   "source": [
    "# split and I want my ratio to be 90% Train, 10% Test, random state will be 50\n",
    "X_train, X_test, y_train, y_test = train_test_split(X, y, test_size=0.10, random_state=50)\n"
   ]
  },
  {
   "cell_type": "code",
   "execution_count": 11,
   "id": "82db494e",
   "metadata": {},
   "outputs": [],
   "source": [
    "my_DT_model = DT_model.fit(X_train, y_train)\n",
    "\n",
    "y_pred = DT_model.predict(X_test)"
   ]
  },
  {
   "cell_type": "code",
   "execution_count": 39,
   "id": "89ff50ab",
   "metadata": {},
   "outputs": [],
   "source": [
    "from sklearn.metrics import confusion_matrix, classification_report, ConfusionMatrixDisplay"
   ]
  },
  {
   "cell_type": "code",
   "execution_count": 15,
   "id": "77bbc030",
   "metadata": {},
   "outputs": [
    {
     "name": "stdout",
     "output_type": "stream",
     "text": [
      "              precision    recall  f1-score   support\n",
      "\n",
      "           0       0.79      0.01      0.01      4504\n",
      "           1       0.92      1.00      0.96     49562\n",
      "\n",
      "    accuracy                           0.92     54066\n",
      "   macro avg       0.86      0.50      0.48     54066\n",
      "weighted avg       0.91      0.92      0.88     54066\n",
      "\n"
     ]
    }
   ],
   "source": [
    "print(classification_report(y_test, y_pred))"
   ]
  },
  {
   "cell_type": "code",
   "execution_count": 40,
   "id": "5bb70af1",
   "metadata": {},
   "outputs": [
    {
     "data": {
      "text/plain": [
       "array([[   23,  4481],\n",
       "       [    6, 49556]])"
      ]
     },
     "execution_count": 40,
     "metadata": {},
     "output_type": "execute_result"
    }
   ],
   "source": [
    "# make a confusion matrix\n",
    "confmatrix = confusion_matrix(y_test, y_pred)\n",
    "confmatrix"
   ]
  },
  {
   "cell_type": "code",
   "execution_count": 41,
   "id": "b04feaf3",
   "metadata": {},
   "outputs": [
    {
     "data": {
      "image/png": "[encoded data removed]",
      "text/plain": [
       "<Figure size 640x480 with 2 Axes>"
      ]
     },
     "metadata": {},
     "output_type": "display_data"
    }
   ],
   "source": [
    "confmatrix_display = ConfusionMatrixDisplay(confusion_matrix=confmatrix, display_labels=DT_model.classes_)\n",
    "confmatrix_display.plot()\n",
    "plt.show()"
   ]
  },
  {
   "cell_type": "markdown",
   "id": "ab0edd94",
   "metadata": {},
   "source": [
    "The confusion matrix plus the results of my model indicate that my class imbalance is highly affecting the model right now. Class 0 seems heavily underrepresented, while class 1 seems heavily overrepresented. This makes sense to why the precision and recall are so high for Class 1, but class 0 performs quite poorly. "
   ]
  },
  {
   "cell_type": "code",
   "execution_count": 26,
   "id": "41a5aaa4",
   "metadata": {},
   "outputs": [
    {
     "data": {
      "text/html": [
       "<div>\n",
       "<style scoped>\n",
       "    .dataframe tbody tr th:only-of-type {\n",
       "        vertical-align: middle;\n",
       "    }\n",
       "\n",
       "    .dataframe tbody tr th {\n",
       "        vertical-align: top;\n",
       "    }\n",
       "\n",
       "    .dataframe thead th {\n",
       "        text-align: right;\n",
       "    }\n",
       "</style>\n",
       "<table border=\"1\" class=\"dataframe\">\n",
       "  <thead>\n",
       "    <tr style=\"text-align: right;\">\n",
       "      <th></th>\n",
       "      <th>precision</th>\n",
       "      <th>recall</th>\n",
       "      <th>f1-score</th>\n",
       "      <th>support</th>\n",
       "    </tr>\n",
       "  </thead>\n",
       "  <tbody>\n",
       "    <tr>\n",
       "      <th>0</th>\n",
       "      <td>0.793103</td>\n",
       "      <td>0.005107</td>\n",
       "      <td>0.010148</td>\n",
       "      <td>4504.000000</td>\n",
       "    </tr>\n",
       "    <tr>\n",
       "      <th>1</th>\n",
       "      <td>0.917075</td>\n",
       "      <td>0.999879</td>\n",
       "      <td>0.956689</td>\n",
       "      <td>49562.000000</td>\n",
       "    </tr>\n",
       "    <tr>\n",
       "      <th>accuracy</th>\n",
       "      <td>0.917009</td>\n",
       "      <td>0.917009</td>\n",
       "      <td>0.917009</td>\n",
       "      <td>0.917009</td>\n",
       "    </tr>\n",
       "    <tr>\n",
       "      <th>macro avg</th>\n",
       "      <td>0.855089</td>\n",
       "      <td>0.502493</td>\n",
       "      <td>0.483418</td>\n",
       "      <td>54066.000000</td>\n",
       "    </tr>\n",
       "    <tr>\n",
       "      <th>weighted avg</th>\n",
       "      <td>0.906748</td>\n",
       "      <td>0.917009</td>\n",
       "      <td>0.877837</td>\n",
       "      <td>54066.000000</td>\n",
       "    </tr>\n",
       "  </tbody>\n",
       "</table>\n",
       "</div>"
      ],
      "text/plain": [
       "              precision    recall  f1-score       support\n",
       "0              0.793103  0.005107  0.010148   4504.000000\n",
       "1              0.917075  0.999879  0.956689  49562.000000\n",
       "accuracy       0.917009  0.917009  0.917009      0.917009\n",
       "macro avg      0.855089  0.502493  0.483418  54066.000000\n",
       "weighted avg   0.906748  0.917009  0.877837  54066.000000"
      ]
     },
     "execution_count": 26,
     "metadata": {},
     "output_type": "execute_result"
    }
   ],
   "source": [
    "# wanted to figure out how to print my results from classification report into a csv: help taken from this thread on \n",
    "# Stack Overflow\n",
    "#https://stackoverflow.com/questions/39662398/scikit-learn-output-metrics-classification-report-into-csv-tab-delimited-format\n",
    "\n",
    "# suggestion was to turn it into a dataframe by having the report returned as a dictionary and transposing it\n",
    "first_model = classification_report(y_test, y_pred, output_dict=True)\n",
    "first_model = pd.DataFrame(first_model).transpose()\n",
    "first_model.head()"
   ]
  },
  {
   "cell_type": "code",
   "execution_count": 27,
   "id": "6dbcd9f5",
   "metadata": {},
   "outputs": [],
   "source": [
    "# first_model_results = first_model.to_csv('/home/ec2-user/SageMaker/IS597MLC-FinalProj/results/first_model_results')"
   ]
  },
  {
   "cell_type": "markdown",
   "id": "247a7616",
   "metadata": {},
   "source": [
    "Now we can start considering fine-tuning the model and playing around with how to make it better. I want to look at my cleaned dataframe and make a correlation matrix of what potentially correlates with what. We make note though of the fact that the seaborn heatmap function is only really designed to handle numerical data, and so we will make a subsetted dataframe for this function, again just to see if there's anything of use: maybe there are numerical features we could use that could help the model's class imbalance."
   ]
  },
  {
   "cell_type": "code",
   "execution_count": 28,
   "id": "be065339",
   "metadata": {},
   "outputs": [],
   "source": [
    "import seaborn as sns"
   ]
  },
  {
   "cell_type": "code",
   "execution_count": 32,
   "id": "5df971b7",
   "metadata": {},
   "outputs": [
    {
     "data": {
      "text/plain": [
       "Unnamed: 0           int64\n",
       "InvoiceNo           object\n",
       "StockCode           object\n",
       "Description         object\n",
       "Quantity             int64\n",
       "InvoiceDate         object\n",
       "UnitPrice          float64\n",
       "CustomerID         float64\n",
       "Country             object\n",
       "Target               int64\n",
       "Jewelry_Present      int64\n",
       "dtype: object"
      ]
     },
     "execution_count": 32,
     "metadata": {},
     "output_type": "execute_result"
    }
   ],
   "source": [
    "df.dtypes"
   ]
  },
  {
   "cell_type": "code",
   "execution_count": 35,
   "id": "5b21b789",
   "metadata": {},
   "outputs": [
    {
     "data": {
      "text/html": [
       "<div>\n",
       "<style scoped>\n",
       "    .dataframe tbody tr th:only-of-type {\n",
       "        vertical-align: middle;\n",
       "    }\n",
       "\n",
       "    .dataframe tbody tr th {\n",
       "        vertical-align: top;\n",
       "    }\n",
       "\n",
       "    .dataframe thead th {\n",
       "        text-align: right;\n",
       "    }\n",
       "</style>\n",
       "<table border=\"1\" class=\"dataframe\">\n",
       "  <thead>\n",
       "    <tr style=\"text-align: right;\">\n",
       "      <th></th>\n",
       "      <th>Quantity</th>\n",
       "      <th>UnitPrice</th>\n",
       "      <th>CustomerID</th>\n",
       "      <th>Target</th>\n",
       "      <th>Jewelry_Present</th>\n",
       "    </tr>\n",
       "  </thead>\n",
       "  <tbody>\n",
       "    <tr>\n",
       "      <th>0</th>\n",
       "      <td>6</td>\n",
       "      <td>3.1620</td>\n",
       "      <td>17850.0</td>\n",
       "      <td>1</td>\n",
       "      <td>0</td>\n",
       "    </tr>\n",
       "    <tr>\n",
       "      <th>1</th>\n",
       "      <td>6</td>\n",
       "      <td>4.2036</td>\n",
       "      <td>17850.0</td>\n",
       "      <td>1</td>\n",
       "      <td>0</td>\n",
       "    </tr>\n",
       "    <tr>\n",
       "      <th>2</th>\n",
       "      <td>8</td>\n",
       "      <td>3.4100</td>\n",
       "      <td>17850.0</td>\n",
       "      <td>1</td>\n",
       "      <td>0</td>\n",
       "    </tr>\n",
       "    <tr>\n",
       "      <th>3</th>\n",
       "      <td>6</td>\n",
       "      <td>4.2036</td>\n",
       "      <td>17850.0</td>\n",
       "      <td>1</td>\n",
       "      <td>0</td>\n",
       "    </tr>\n",
       "    <tr>\n",
       "      <th>4</th>\n",
       "      <td>6</td>\n",
       "      <td>4.2036</td>\n",
       "      <td>17850.0</td>\n",
       "      <td>1</td>\n",
       "      <td>0</td>\n",
       "    </tr>\n",
       "  </tbody>\n",
       "</table>\n",
       "</div>"
      ],
      "text/plain": [
       "   Quantity  UnitPrice  CustomerID  Target  Jewelry_Present\n",
       "0         6     3.1620     17850.0       1                0\n",
       "1         6     4.2036     17850.0       1                0\n",
       "2         8     3.4100     17850.0       1                0\n",
       "3         6     4.2036     17850.0       1                0\n",
       "4         6     4.2036     17850.0       1                0"
      ]
     },
     "execution_count": 35,
     "metadata": {},
     "output_type": "execute_result"
    }
   ],
   "source": [
    "df2 = df.drop(['Unnamed: 0', 'InvoiceNo', 'StockCode', 'Description', 'InvoiceDate', 'Country'], axis=1)\n",
    "df2.head()"
   ]
  },
  {
   "cell_type": "code",
   "execution_count": 36,
   "id": "bfba7567",
   "metadata": {},
   "outputs": [
    {
     "data": {
      "image/png": "[encoded data removed]",
      "text/plain": [
       "<Figure size 640x480 with 2 Axes>"
      ]
     },
     "metadata": {},
     "output_type": "display_data"
    }
   ],
   "source": [
    "fig, ax = plt.subplots()\n",
    "sns.heatmap(df2.corr(), cmap='RdPu', annot=True)\n",
    "plt.show()"
   ]
  },
  {
   "cell_type": "markdown",
   "id": "e0fbd45c",
   "metadata": {},
   "source": [
    "This is definitely not a promising correlation matrix between the numerical values. The most promising correlation is between the target and the customer ID, and it's only at about a 0.43. "
   ]
  },
  {
   "cell_type": "code",
   "execution_count": null,
   "id": "5ae98cde",
   "metadata": {},
   "outputs": [],
   "source": []
  }
 ],
 "metadata": {
  "kernelspec": {
   "display_name": "conda_python3",
   "language": "python",
   "name": "conda_python3"
  },
  "language_info": {
   "codemirror_mode": {
    "name": "ipython",
    "version": 3
   },
   "file_extension": ".py",
   "mimetype": "text/x-python",
   "name": "python",
   "nbconvert_exporter": "python",
   "pygments_lexer": "ipython3",
   "version": "3.10.13"
  }
 },
 "nbformat": 4,
 "nbformat_minor": 5
}
